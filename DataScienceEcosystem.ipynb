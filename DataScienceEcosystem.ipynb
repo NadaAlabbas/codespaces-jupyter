# Exercise 2: Create a markdown cell with title of the notebook

# Import necessary libraries
import matplotlib.pyplot as plt

# Create a Jupyter notebook and add a markdown cell with the title
fig, ax = plt.subplots(figsize=(8, 2))
ax.text(0.5, 0.5, 'Data Science Tools and Ecosystem', ha='center', va='center', fontsize=18)
ax.axis('off')

# Save the figure as 2-title.png
plt.savefig('2-title.png', bbox_inches='tight', pad_inches=0.1)
plt.show()
